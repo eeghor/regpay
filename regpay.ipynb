{
 "cells": [
  {
   "cell_type": "code",
   "execution_count": 1,
   "metadata": {},
   "outputs": [],
   "source": [
    "import pandas as pd\n",
    "import re\n",
    "import spacy\n",
    "import json\n",
    "from random import randint\n",
    "from spacy.lang.en.stop_words import STOP_WORDS"
   ]
  },
  {
   "cell_type": "code",
   "execution_count": 2,
   "metadata": {},
   "outputs": [],
   "source": [
    "d = pd.read_csv('data/transaction_texts.csv')"
   ]
  },
  {
   "cell_type": "code",
   "execution_count": 3,
   "metadata": {},
   "outputs": [
    {
     "data": {
      "text/html": [
       "<div>\n",
       "<style scoped>\n",
       "    .dataframe tbody tr th:only-of-type {\n",
       "        vertical-align: middle;\n",
       "    }\n",
       "\n",
       "    .dataframe tbody tr th {\n",
       "        vertical-align: top;\n",
       "    }\n",
       "\n",
       "    .dataframe thead th {\n",
       "        text-align: right;\n",
       "    }\n",
       "</style>\n",
       "<table border=\"1\" class=\"dataframe\">\n",
       "  <thead>\n",
       "    <tr style=\"text-align: right;\">\n",
       "      <th></th>\n",
       "      <th>account_category</th>\n",
       "      <th>account_name</th>\n",
       "      <th>description</th>\n",
       "    </tr>\n",
       "  </thead>\n",
       "  <tbody>\n",
       "    <tr>\n",
       "      <th>0</th>\n",
       "      <td>Revenue - Subscriptions</td>\n",
       "      <td>Revenue-Software Subscription (On Premise)-Unb...</td>\n",
       "      <td>ACP ASC 605 Reversals - 05/31/2018</td>\n",
       "    </tr>\n",
       "    <tr>\n",
       "      <th>1</th>\n",
       "      <td>Deferred Revenue - Current</td>\n",
       "      <td>AR - Unbilled - Subscription</td>\n",
       "      <td>Consolidation</td>\n",
       "    </tr>\n",
       "    <tr>\n",
       "      <th>2</th>\n",
       "      <td>Accrued Taxes</td>\n",
       "      <td>Payroll-Worker's Comp Payable</td>\n",
       "      <td>1197</td>\n",
       "    </tr>\n",
       "    <tr>\n",
       "      <th>3</th>\n",
       "      <td>Fringe</td>\n",
       "      <td>Employer SSec</td>\n",
       "      <td>Reversed -- JOHNSON, CHERYL LYNN</td>\n",
       "    </tr>\n",
       "    <tr>\n",
       "      <th>4</th>\n",
       "      <td>Cash and Cash Equivalents</td>\n",
       "      <td>Chase Operating</td>\n",
       "      <td>1.00E+11</td>\n",
       "    </tr>\n",
       "  </tbody>\n",
       "</table>\n",
       "</div>"
      ],
      "text/plain": [
       "             account_category  \\\n",
       "0     Revenue - Subscriptions   \n",
       "1  Deferred Revenue - Current   \n",
       "2               Accrued Taxes   \n",
       "3                      Fringe   \n",
       "4   Cash and Cash Equivalents   \n",
       "\n",
       "                                        account_name  \\\n",
       "0  Revenue-Software Subscription (On Premise)-Unb...   \n",
       "1                       AR - Unbilled - Subscription   \n",
       "2                      Payroll-Worker's Comp Payable   \n",
       "3                                      Employer SSec   \n",
       "4                                    Chase Operating   \n",
       "\n",
       "                          description  \n",
       "0  ACP ASC 605 Reversals - 05/31/2018  \n",
       "1                       Consolidation  \n",
       "2                                1197  \n",
       "3    Reversed -- JOHNSON, CHERYL LYNN  \n",
       "4                            1.00E+11  "
      ]
     },
     "execution_count": 3,
     "metadata": {},
     "output_type": "execute_result"
    }
   ],
   "source": [
    "d.head()"
   ]
  },
  {
   "cell_type": "code",
   "execution_count": 4,
   "metadata": {},
   "outputs": [],
   "source": [
    "ac =json.load(open('data/acdic.json'))"
   ]
  },
  {
   "cell_type": "code",
   "execution_count": 6,
   "metadata": {},
   "outputs": [],
   "source": [
    "nlp = spacy.load(\"en_core_web_lg\")"
   ]
  },
  {
   "cell_type": "code",
   "execution_count": 13,
   "metadata": {},
   "outputs": [],
   "source": [
    "def get_text():\n",
    "    \n",
    "    row = d.iloc[randint(0, len(d)-1)]\n",
    "\n",
    "    doc = nlp((row['account_category'] + ' ' + row['account_name'] + ' ' + row['description']).lower())\n",
    "    \n",
    "    doc_norm = [(token.text, token.lemma_, token.pos_, token.has_vector) \n",
    "                     for token in doc if token.pos_ in ['NOUN', 'VERB', 'ADJ', 'ADV', 'PRON'] and \n",
    "                                 len(token.lemma_)>1 and \n",
    "                                 token.text.isalpha()]\n",
    "    return ' '.join([_[0] for _ in doc_norm])"
   ]
  },
  {
   "cell_type": "code",
   "execution_count": 29,
   "metadata": {},
   "outputs": [],
   "source": [
    "l1 = get_text()\n",
    "doc1 = nlp(l1)\n",
    "l2 = get_text()\n",
    "doc2 = nlp(l2)"
   ]
  },
  {
   "cell_type": "code",
   "execution_count": 30,
   "metadata": {},
   "outputs": [
    {
     "name": "stdout",
     "output_type": "stream",
     "text": [
      "1: note payable current bonds financing costs purchases\n",
      "2: interest expense interest expense purchases\n",
      "similarity: 0.8608801541356973\n"
     ]
    }
   ],
   "source": [
    "print(f'1: {l1}\\n2: {l2}\\nsimilarity: {doc1.similarity(doc2)}')"
   ]
  },
  {
   "cell_type": "code",
   "execution_count": null,
   "metadata": {},
   "outputs": [],
   "source": []
  }
 ],
 "metadata": {
  "kernelspec": {
   "display_name": "Python 3",
   "language": "python",
   "name": "python3"
  },
  "language_info": {
   "codemirror_mode": {
    "name": "ipython",
    "version": 3
   },
   "file_extension": ".py",
   "mimetype": "text/x-python",
   "name": "python",
   "nbconvert_exporter": "python",
   "pygments_lexer": "ipython3",
   "version": "3.9.5"
  }
 },
 "nbformat": 4,
 "nbformat_minor": 4
}
