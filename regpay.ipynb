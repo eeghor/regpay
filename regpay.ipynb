{
 "cells": [
  {
   "cell_type": "code",
   "execution_count": 541,
   "metadata": {},
   "outputs": [],
   "source": [
    "import pandas as pd\n",
    "import re\n",
    "import spacy\n",
    "import json\n",
    "from random import randint\n",
    "from spacy.lang.en.stop_words import STOP_WORDS\n",
    "from typing import Any, Optional, NamedTuple\n",
    "from string import punctuation\n",
    "from datetime import date\n",
    "from itertools import combinations_with_replacement\n",
    "from collections import Counter, defaultdict"
   ]
  },
  {
   "cell_type": "code",
   "execution_count": 368,
   "metadata": {},
   "outputs": [],
   "source": [
    "nlp = spacy.load(\"en_core_web_lg\")"
   ]
  },
  {
   "cell_type": "code",
   "execution_count": 369,
   "metadata": {},
   "outputs": [],
   "source": [
    "d = pd.read_csv('data/transaction_texts.csv')"
   ]
  },
  {
   "cell_type": "code",
   "execution_count": 549,
   "metadata": {},
   "outputs": [],
   "source": [
    "class Transaction:\n",
    "    \n",
    "    def __init__(self, account_category, account_name, description):\n",
    "        \n",
    "        self.account_category: Optional[str] = account_category\n",
    "        self.account_name: Optional[str] = account_name\n",
    "        self.description: Optional[str] = description\n",
    "            \n",
    "        self.doc = defaultdict()\n",
    "        \n",
    "        self.original = self.__str__()\n",
    "        \n",
    "        self.labels = set()\n",
    "    \n",
    "    def __str__(self):\n",
    "        return f'{\"acc.cat:\":<10}{self.account_category}\\n{\"acc.name:\":<10}{self.account_name}\\n{\"desc:\":<10}{self.description}'\n",
    "    \n",
    "    def make_doc(self):\n",
    "        \n",
    "        if self.account_category:\n",
    "            self.doc['account_category'] = nlp(self.account_category.lower())\n",
    "        if self.account_name:\n",
    "            self.doc['account_name'] = nlp(self.account_name.lower())\n",
    "        if self.description:\n",
    "            self.doc['description'] = nlp(self.description.lower())\n",
    "        \n",
    "        return self"
   ]
  },
  {
   "cell_type": "code",
   "execution_count": 623,
   "metadata": {},
   "outputs": [],
   "source": [
    "class Parser:\n",
    "    \n",
    "    def __init__(self):\n",
    "        \n",
    "        self.abbrs = json.load(open('data/acdic.json'))\n",
    "        self.syns = {'revenue': set('revenue earnings gain income incoming proceeds profit return yield'.split()),\n",
    "                     'accrue': set('accrue accumulate amass collect gather aggregate hoard'.split()),\n",
    "                     'consolidation': set('consolidation merger strengthening unification amalgamation'.split()),\n",
    "                     'adjustment': set('adjustment adjust adj alteration modification readjustment'.split()),\n",
    "                     'payroll': set('payroll salary wages pay remuneration paycheck earning'.split()),\n",
    "                     'liability': set('liability debt burden obligation owing uninvoiced'.split()),\n",
    "                     'month': {'apr', 'april', 'aug', 'august', 'dec', 'december', 'feb', 'february',\n",
    "                               'jan', 'january', 'jul', 'july', 'jun','june', 'mar', 'march','may',\n",
    "                               'nov', 'november', 'oct', 'october', 'sep', 'september'},\n",
    "                     'food': set('food meal dinner lunch restaurant cafe brunch breakfast catering'.split())}\n",
    "    \n",
    "    def run(self, st):\n",
    "        \n",
    "        _labs = defaultdict()\n",
    "        \n",
    "        # all to lower case\n",
    "        st = st.lower()\n",
    "        \n",
    "        # remove /\n",
    "        st = st.replace('/','')\n",
    "        \n",
    "        # replace punctuation with a single white space\n",
    "        st = st.translate(str.maketrans({_: ' ' for _ in punctuation}))\n",
    "        \n",
    "        # replace multiple consecutive white spaces with a single one\n",
    "        st = re.sub(r'\\s+', ' ', st)\n",
    "        \n",
    "        extracted_dates = self.find_date(st)\n",
    "        if extracted_dates:\n",
    "            _labs['dates'] = extracted_dates\n",
    "        \n",
    "        # unfold abbreviations\n",
    "        st = ' '.join([self.abbrs.get(w, w) for w in st.split()])\n",
    "        \n",
    "        # remove numbers\n",
    "        st = ' '.join([w for w in st.split() if w.isalpha()])\n",
    "        \n",
    "        # remove stopwords\n",
    "        st = ' '.join([w for w in st.split() if w not in STOP_WORDS])\n",
    "        \n",
    "        # strip white spaces on ends\n",
    "        st = st.strip()\n",
    "        \n",
    "        extracted_labels = self.extract_labels(st)\n",
    "        if extracted_labels:\n",
    "            _labs['types'] = extracted_labels\n",
    "        \n",
    "        return (st, _labs)\n",
    "    \n",
    "    def find_date(self, st):\n",
    "        \n",
    "        try:\n",
    "            _date = re.search(r'(\\b\\d{1,2}\\s{1}\\d{1,2}\\s{1}\\d{2}\\b)|'\n",
    "                              r'(\\b\\d{4}\\s{1}\\d{1,2}\\s{1}\\d{1,2}\\b)|'\n",
    "                              r'(\\b\\d{1,2}\\s{1}\\d{1,2}\\s{1}\\d{4}\\b)', st).group(0)\n",
    "        except:\n",
    "            return None\n",
    "        \n",
    "        plausible = dict(days=set(range(1,32)), \n",
    "                         months=set(range(1,13)), \n",
    "                         years=set(range(19,22)) | set(range(2019, 2022)))\n",
    "        \n",
    "        candidates = dict(days=set(), \n",
    "                          months=set(), \n",
    "                          years=set())\n",
    "        \n",
    "        for p in _date.split():\n",
    "            for _ in 'years months days'.split():\n",
    "                if int(p) in plausible[_]:\n",
    "                    candidates[_].add(int(p))\n",
    "        \n",
    "        if max(candidates['years']) >= 2019:\n",
    "            candidates['years'] = {max(candidates['years'])}\n",
    "        \n",
    "        _dates = set()\n",
    "        \n",
    "        for _y in candidates['years']:\n",
    "            \n",
    "            if len(str(_y)) == 2:\n",
    "                _y = int('20' + str(_y))\n",
    "                \n",
    "            for _m in candidates['months']:\n",
    "                for _d in candidates['days']:\n",
    "                    _dates.add(date(year=_y, month=_m, day=_d))\n",
    "        \n",
    "        return _dates   \n",
    "    \n",
    "    def extract_labels(self, st):\n",
    "        \n",
    "        _labs = set()\n",
    "        \n",
    "        for what in self.syns:\n",
    "            for w in st.split():\n",
    "                if w in self.syns[what]:\n",
    "                    _labs.add(what)\n",
    "        \n",
    "        if _labs:\n",
    "            return _labs"
   ]
  },
  {
   "cell_type": "code",
   "execution_count": 624,
   "metadata": {},
   "outputs": [],
   "source": [
    "p = Parser()"
   ]
  },
  {
   "cell_type": "code",
   "execution_count": 625,
   "metadata": {},
   "outputs": [],
   "source": [
    "sent = 'ACCrual payment 23-1-20 on the low GFT and also JUNE '\n",
    "sentn, labs = p.run(sent)"
   ]
  },
  {
   "cell_type": "code",
   "execution_count": 626,
   "metadata": {},
   "outputs": [
    {
     "name": "stdout",
     "output_type": "stream",
     "text": [
      "accrual payment low gft june\n"
     ]
    }
   ],
   "source": [
    "print(sentn)"
   ]
  },
  {
   "cell_type": "code",
   "execution_count": 627,
   "metadata": {},
   "outputs": [
    {
     "data": {
      "text/plain": [
       "defaultdict(None,\n",
       "            {'dates': {datetime.date(2020, 1, 1),\n",
       "              datetime.date(2020, 1, 20),\n",
       "              datetime.date(2020, 1, 23)},\n",
       "             'types': {'month'}})"
      ]
     },
     "execution_count": 627,
     "metadata": {},
     "output_type": "execute_result"
    }
   ],
   "source": [
    "labs"
   ]
  },
  {
   "cell_type": "code",
   "execution_count": 543,
   "metadata": {},
   "outputs": [],
   "source": [
    "t = Transaction(**d.iloc[12])"
   ]
  },
  {
   "cell_type": "code",
   "execution_count": 598,
   "metadata": {},
   "outputs": [],
   "source": [
    "syns = set('january february march april may june july august september october november december'.split())\n",
    "syns |= {m[:3] for m in syns}"
   ]
  },
  {
   "cell_type": "code",
   "execution_count": 599,
   "metadata": {},
   "outputs": [
    {
     "data": {
      "text/plain": [
       "{'apr',\n",
       " 'april',\n",
       " 'aug',\n",
       " 'august',\n",
       " 'dec',\n",
       " 'december',\n",
       " 'feb',\n",
       " 'february',\n",
       " 'jan',\n",
       " 'january',\n",
       " 'jul',\n",
       " 'july',\n",
       " 'jun',\n",
       " 'june',\n",
       " 'mar',\n",
       " 'march',\n",
       " 'may',\n",
       " 'nov',\n",
       " 'november',\n",
       " 'oct',\n",
       " 'october',\n",
       " 'sep',\n",
       " 'september'}"
      ]
     },
     "execution_count": 599,
     "metadata": {},
     "output_type": "execute_result"
    }
   ],
   "source": [
    "syns"
   ]
  },
  {
   "cell_type": "code",
   "execution_count": 546,
   "metadata": {},
   "outputs": [
    {
     "data": {
      "text/plain": [
       "<__main__.Transaction at 0x7ffa8aa61ee0>"
      ]
     },
     "execution_count": 546,
     "metadata": {},
     "output_type": "execute_result"
    }
   ],
   "source": [
    "t.make_doc()"
   ]
  },
  {
   "cell_type": "code",
   "execution_count": 548,
   "metadata": {},
   "outputs": [
    {
     "data": {
      "text/plain": [
       "['Deferred', 'revenue', '-', 'current']"
      ]
     },
     "execution_count": 548,
     "metadata": {},
     "output_type": "execute_result"
    }
   ],
   "source": [
    "[_.lemma_ for _ in t.doc['account_category']]"
   ]
  },
  {
   "cell_type": "code",
   "execution_count": 540,
   "metadata": {},
   "outputs": [
    {
     "name": "stdout",
     "output_type": "stream",
     "text": [
      "acc.cat:  deferred revenue current\n",
      "acc.name: deferred revenue maintenance support software unbilled\n",
      "desc:     acp reversal\n"
     ]
    }
   ],
   "source": [
    "print(t)"
   ]
  },
  {
   "cell_type": "code",
   "execution_count": 387,
   "metadata": {},
   "outputs": [],
   "source": [
    "all_abbrs = []\n",
    "\n",
    "for r in d.iterrows():\n",
    "    abbrs = {_ for _ in r[1]['account_name'].lower().split() if len(_) in [2,3]}\n",
    "    all_abbrs += list(abbrs)"
   ]
  },
  {
   "cell_type": "code",
   "execution_count": 390,
   "metadata": {},
   "outputs": [],
   "source": [
    "li = [p.replace(\"/\",'') for p in all_abbrs]"
   ]
  },
  {
   "cell_type": "code",
   "execution_count": 420,
   "metadata": {},
   "outputs": [
    {
     "name": "stdout",
     "output_type": "stream",
     "text": [
      "Investments - Ops Account - BCH - Trade Commissions\n",
      "Unrealized G/(L) - BCH Reserve\n",
      "Investments - Ops Account - BCH FV Adj\n",
      "Unrealized G/(L) - BCH Operating\n",
      "Investments - Ops Account - BCH FV Adj\n"
     ]
    }
   ],
   "source": [
    "i = 0\n",
    "for r in d.iterrows():\n",
    "    if ' bch ' in r[1]['account_name'].lower():\n",
    "        print(r[1]['account_name'])\n",
    "        i += 1\n",
    "        if i == 5:\n",
    "            break"
   ]
  },
  {
   "cell_type": "code",
   "execution_count": null,
   "metadata": {},
   "outputs": [],
   "source": [
    "Counter([_ for _ in li if _.isalpha() and _ not in STOP_WORDS]).most_common()"
   ]
  },
  {
   "cell_type": "code",
   "execution_count": 378,
   "metadata": {},
   "outputs": [
    {
     "name": "stdout",
     "output_type": "stream",
     "text": [
      "acc.cat:  deferred revenue current\n",
      "acc.name: deferred revenue maintenance support software unbilled\n",
      "desc:     acp reversal\n"
     ]
    }
   ],
   "source": [
    "print(t)"
   ]
  },
  {
   "cell_type": "code",
   "execution_count": 385,
   "metadata": {},
   "outputs": [
    {
     "data": {
      "text/plain": [
       "'rabbit love carrot refer defer high'"
      ]
     },
     "execution_count": 385,
     "metadata": {},
     "output_type": "execute_result"
    }
   ],
   "source": [
    "t._lemmatize('rabbits love carrots referred deferred higher')"
   ]
  },
  {
   "cell_type": "code",
   "execution_count": 68,
   "metadata": {},
   "outputs": [],
   "source": [
    "ac = json.load(open('data/acdic.json'))"
   ]
  },
  {
   "cell_type": "code",
   "execution_count": 5,
   "metadata": {},
   "outputs": [],
   "source": [
    "nlp = spacy.load(\"en_core_web_lg\")"
   ]
  },
  {
   "cell_type": "code",
   "execution_count": 521,
   "metadata": {},
   "outputs": [],
   "source": [
    "def get_text():\n",
    "    \n",
    "#     row = d.iloc[randint(0, len(d)-1)]\n",
    "    row = TransactDescr(**d.iloc[randint(0, len(d)-1)]).normalize()\n",
    "\n",
    "    doc = nlp(row.description)\n",
    "    \n",
    "    doc_norm = [(token.text, token.lemma_, token.pos_, token.has_vector) \n",
    "                     for token in doc if token.pos_ in ['NOUN', 'VERB', 'ADJ', 'ADV', 'PRON'] and \n",
    "                                 len(token.lemma_)>1 and \n",
    "                                 token.text.isalpha()]\n",
    "    return ' '.join([_[0] for _ in doc_norm])"
   ]
  },
  {
   "cell_type": "code",
   "execution_count": 534,
   "metadata": {},
   "outputs": [
    {
     "name": "stdout",
     "output_type": "stream",
     "text": [
      "1: acp reversal\n",
      "2: payroll\n",
      "similarity: 0.11917300646492232\n",
      "1: purchase\n",
      "2: taxis\n",
      "similarity: 0.12457224066823691\n",
      "1: depreciation asset landscaping serial number\n",
      "2: depreciation asset long point office wall reconfiguration serial number\n",
      "similarity: 0.8528660305681611\n",
      "1: \n",
      "2: consolidation\n",
      "similarity: 0.0\n",
      "1: consolidation\n",
      "2: consolidation\n",
      "similarity: 1.0\n",
      "1: receivables sale entry\n",
      "2: fund bmp\n",
      "similarity: 0.30342735008984334\n",
      "1: book provision certification charge report\n",
      "2: consolidation\n",
      "similarity: 0.39132950925975746\n"
     ]
    },
    {
     "name": "stderr",
     "output_type": "stream",
     "text": [
      "<ipython-input-534-2e499eb71ec9>:6: UserWarning: [W008] Evaluating Doc.similarity based on empty vectors.\n",
      "  print(f'1: {l1}\\n2: {l2}\\nsimilarity: {doc1.similarity(doc2)}')\n"
     ]
    },
    {
     "name": "stdout",
     "output_type": "stream",
     "text": [
      "1: consolidation\n",
      "2: cash\n",
      "similarity: 0.4657770986771067\n",
      "1: accrue expense oct\n",
      "2: consolidation\n",
      "similarity: 0.4300465789305381\n",
      "1: consolidation\n",
      "2: acp reversal\n",
      "similarity: 0.2224955151386263\n",
      "1: purchase\n",
      "2: prepay inv chair sale service amc chair chair apr oct\n",
      "similarity: 0.4320984592578958\n",
      "1: acp reversal\n",
      "2: consolidation\n",
      "similarity: 0.2224955151386263\n",
      "1: depreciation asset co serial number\n",
      "2: consolidation\n",
      "similarity: 0.43216430252592875\n",
      "1: reverse accrual adobe inv\n",
      "2: consolidation\n",
      "similarity: 0.3807563918103622\n",
      "1: period daily sale\n",
      "2: \n",
      "similarity: 0.0\n",
      "1: inter entity\n",
      "2: service allocation\n",
      "similarity: 0.4607773646987202\n",
      "1: consolidation\n",
      "2: ledger entry\n",
      "similarity: 0.26463612588798363\n",
      "1: legacy mp donation dep\n",
      "2: consolidation\n",
      "similarity: 0.258098599502456\n",
      "1: service allocation\n",
      "2: consolidation\n",
      "similarity: 0.4230199631327694\n",
      "1: ultipro payroll\n",
      "2: alloc active pt\n",
      "similarity: 0.05631301193468577\n",
      "1: merchant etf\n",
      "2: acp rr reclass\n",
      "similarity: 0.1648853551361504\n",
      "1: contribution payable\n",
      "2: consolidation\n",
      "similarity: 0.3229194332406582\n",
      "1: payroll gous pay date\n",
      "2: consolidation\n",
      "similarity: 0.42127436777910293\n",
      "1: reverse allocate depreciation expense\n",
      "2: consolidation\n",
      "similarity: 0.4655816534709626\n",
      "1: acp reversal\n",
      "2: accrue expense uber verqu welcome week ubereat voucher lunch\n",
      "similarity: 0.08625953466089241\n",
      "1: laura report lab inc\n",
      "2: \n",
      "similarity: 0.0\n",
      "1: give eft eft\n",
      "2: inter entity\n",
      "similarity: 0.11437780621723789\n",
      "1: discount bean\n",
      "2: acp reversal\n",
      "similarity: 0.06499186328235308\n",
      "1: acp reversal\n",
      "2: acp reversal\n",
      "similarity: 1.0\n",
      "1: siu chappie san\n",
      "2: fund ncc\n",
      "similarity: 0.26375368539571575\n",
      "1: ledger entry\n",
      "2: purchase\n",
      "similarity: 0.2413921185141146\n",
      "1: december activity\n",
      "2: consolidation\n",
      "similarity: 0.25790538982151984\n",
      "1: acp reversal\n",
      "2: acp reversal\n",
      "similarity: 1.0\n",
      "1: depreciation asset pr serial number\n",
      "2: salary admin\n",
      "similarity: 0.42933429052088184\n",
      "1: period daily sale\n",
      "2: feb accrual\n",
      "similarity: 0.27280321996012774\n",
      "1: legacy ministryplatform payment export mp mpe\n",
      "2: inter entity\n",
      "similarity: 0.3673810826015104\n",
      "1: consolidation\n",
      "2: account payable\n",
      "similarity: 0.3603264977976946\n",
      "1: \n",
      "2: purchase\n",
      "similarity: 0.0\n",
      "1: consolidation\n",
      "2: acp reversal\n",
      "similarity: 0.2224955151386263\n",
      "1: cash\n",
      "2: medical employer pay offset medical\n",
      "similarity: 0.5480724532015743\n",
      "1: depreciation asset co serial number\n",
      "2: ultipro payroll\n",
      "similarity: 0.47958466040970565\n",
      "1: acp reversal\n",
      "2: account payable\n",
      "similarity: 0.10889355125920526\n",
      "1: account payable\n",
      "2: consolidation\n",
      "similarity: 0.3603264977976946\n",
      "1: salary\n",
      "2: period daily sale\n",
      "similarity: 0.33751884624090744\n",
      "1: \n",
      "2: depreciation\n",
      "similarity: 0.0\n",
      "1: account payable\n",
      "2: period daily sale\n",
      "similarity: 0.4634350270267889\n",
      "1: import opening balance\n",
      "2: cash\n",
      "similarity: 0.4313566977804922\n",
      "1: balance sheet adj\n",
      "2: ledger entry\n",
      "similarity: 0.40834966498745817\n",
      "1: receivables sale entry\n",
      "2: yvette nick\n",
      "similarity: -0.0014562342819600315\n",
      "1: gmc nms religare vide dt march inr\n",
      "2: consolidation\n",
      "similarity: 0.14300261524908447\n"
     ]
    }
   ],
   "source": [
    "for _ in range(50):\n",
    "    l1 = get_text()\n",
    "    doc1 = nlp(l1)\n",
    "    l2 = get_text()\n",
    "    doc2 = nlp(l2)\n",
    "    print(f'1: {l1}\\n2: {l2}\\nsimilarity: {doc1.similarity(doc2)}')"
   ]
  },
  {
   "cell_type": "code",
   "execution_count": 525,
   "metadata": {},
   "outputs": [
    {
     "name": "stdout",
     "output_type": "stream",
     "text": [
      "1: period daily sale amex\n",
      "2: dialpad monthly cell phone bill\n",
      "similarity: 0.37131790764316164\n"
     ]
    }
   ],
   "source": []
  },
  {
   "cell_type": "code",
   "execution_count": null,
   "metadata": {},
   "outputs": [],
   "source": []
  }
 ],
 "metadata": {
  "kernelspec": {
   "display_name": "Python 3",
   "language": "python",
   "name": "python3"
  },
  "language_info": {
   "codemirror_mode": {
    "name": "ipython",
    "version": 3
   },
   "file_extension": ".py",
   "mimetype": "text/x-python",
   "name": "python",
   "nbconvert_exporter": "python",
   "pygments_lexer": "ipython3",
   "version": "3.9.5"
  }
 },
 "nbformat": 4,
 "nbformat_minor": 4
}
