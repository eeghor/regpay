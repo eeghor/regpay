{
 "cells": [
  {
   "cell_type": "code",
   "execution_count": 541,
   "metadata": {},
   "outputs": [],
   "source": [
    "import pandas as pd\n",
    "import re\n",
    "import spacy\n",
    "import json\n",
    "from random import randint\n",
    "from spacy.lang.en.stop_words import STOP_WORDS\n",
    "from typing import Any, Optional, NamedTuple\n",
    "from string import punctuation\n",
    "from datetime import date\n",
    "from itertools import combinations_with_replacement\n",
    "from collections import Counter, defaultdict"
   ]
  },
  {
   "cell_type": "code",
   "execution_count": 368,
   "metadata": {},
   "outputs": [],
   "source": [
    "nlp = spacy.load(\"en_core_web_lg\")"
   ]
  },
  {
   "cell_type": "code",
   "execution_count": 369,
   "metadata": {},
   "outputs": [],
   "source": [
    "d = pd.read_csv('data/transaction_texts.csv')"
   ]
  },
  {
   "cell_type": "code",
   "execution_count": 732,
   "metadata": {},
   "outputs": [],
   "source": [
    "class Transaction:\n",
    "    \n",
    "    def __init__(self, account_category, account_name, description):\n",
    "        \n",
    "        self.account_category: Optional[str] = account_category\n",
    "        self.account_name: Optional[str] = account_name\n",
    "        self.description: Optional[str] = description\n",
    "            \n",
    "        self.docs = defaultdict()\n",
    "        self.labels = defaultdict()\n",
    "    \n",
    "    def __str__(self):\n",
    "        return f'{\"acc.cat:\":<10}{self.account_category}\\n{\"acc.name:\":<10}{self.account_name}\\n{\"desc:\":<10}{self.description}'\n",
    "    \n",
    "    def similarity(self, another_transaction):\n",
    "        \n",
    "        sim_acc_cat = self.docs['account_category'].similarity(another_transaction.docs['account_category'])\n",
    "        sim_acc_name = self.docs['account_name'].similarity(another_transaction.docs['account_name'])\n",
    "        sim_desc = self.docs['description'].similarity(another_transaction.docs['description'])\n",
    "        \n",
    "        print(f'similarity: acc.cat: {sim_acc_cat:.4f} acc.name: {sim_acc_name:.4f} description: {sim_desc:.4f}')\n",
    "        \n",
    "        return (sim_acc_cat, sim_acc_name, sim_desc)"
   ]
  },
  {
   "cell_type": "code",
   "execution_count": 733,
   "metadata": {},
   "outputs": [],
   "source": [
    "class Parser:\n",
    "    \n",
    "    def __init__(self):\n",
    "        \n",
    "        self.abbrs = json.load(open('data/acdic.json'))\n",
    "        self.syns = {'revenue': set('revenue earnings gain income incoming proceeds profit return yield'.split()),\n",
    "                     'expense': set('expense charge expenditure obligation spending spend overhead surcharge'.split()),\n",
    "                     'accrue': set('accrue accumulate amass collect gather aggregate hoard'.split()),\n",
    "                     'consolidation': set('consolidation merger strengthening unification amalgamation'.split()),\n",
    "                     'adjustment': set('adjustment adjust adj alteration modification readjustment'.split()),\n",
    "                     'recurring': set('regular daily monthly weekly fortnightly yearly repeat routine recurring'.split()),\n",
    "                     'payroll': set('payroll salary wages pay remuneration paycheck earning'.split()),\n",
    "                     'liability': set('liability debt burden obligation owing uninvoiced'.split()),\n",
    "                     'month': set('apr april aug august dec december feb february jan january jul july jun june mar march may nov november oct october sep september'.split()),\n",
    "                     'food': set('food meal dinner lunch restaurant cafe brunch breakfast catering'.split())}\n",
    "    \n",
    "    def run(self, st):\n",
    "        \n",
    "        _labs = defaultdict()\n",
    "        \n",
    "        # all to lower case\n",
    "        st = st.lower()\n",
    "        \n",
    "        # remove /\n",
    "        st = st.replace('/','')\n",
    "        \n",
    "        # replace punctuation with a single white space\n",
    "        st = st.translate(str.maketrans({_: ' ' for _ in punctuation}))\n",
    "        \n",
    "        # replace multiple consecutive white spaces with a single one\n",
    "        st = re.sub(r'\\s+', ' ', st)\n",
    "        \n",
    "        extracted_dates = self.find_date(st)\n",
    "        if extracted_dates:\n",
    "            _labs['dates'] = extracted_dates\n",
    "        \n",
    "        # unfold abbreviations\n",
    "        st = ' '.join([self.abbrs.get(w, w) for w in st.split()])\n",
    "        \n",
    "        # remove numbers\n",
    "        st = ' '.join([w for w in st.split() if w.isalpha()])\n",
    "        \n",
    "        # remove stopwords\n",
    "        st = ' '.join([w for w in st.split() if w not in STOP_WORDS])\n",
    "        \n",
    "        # strip white spaces on ends\n",
    "        st = st.strip()\n",
    "        \n",
    "        extracted_labels = self.extract_labels(st)\n",
    "        if extracted_labels:\n",
    "            _labs['types'] = extracted_labels\n",
    "        \n",
    "        return (nlp(st), _labs)\n",
    "    \n",
    "    def find_date(self, st):\n",
    "        \n",
    "        try:\n",
    "            _date = re.search(r'(\\b\\d{1,2}\\s{1}\\d{1,2}\\s{1}\\d{2}\\b)|'\n",
    "                              r'(\\b\\d{4}\\s{1}\\d{1,2}\\s{1}\\d{1,2}\\b)|'\n",
    "                              r'(\\b\\d{1,2}\\s{1}\\d{1,2}\\s{1}\\d{4}\\b)', st).group(0)\n",
    "        except:\n",
    "            return None\n",
    "        \n",
    "        plausible = dict(days=set(range(1,32)), \n",
    "                         months=set(range(1,13)), \n",
    "                         years=set(range(19,22)) | set(range(2019, 2022)))\n",
    "        \n",
    "        candidates = dict(days=set(), \n",
    "                          months=set(), \n",
    "                          years=set())\n",
    "        \n",
    "        for p in _date.split():\n",
    "            for _ in 'years months days'.split():\n",
    "                if int(p) in plausible[_]:\n",
    "                    candidates[_].add(int(p))\n",
    "        \n",
    "        if max(candidates['years']) >= 2019:\n",
    "            candidates['years'] = {max(candidates['years'])}\n",
    "        \n",
    "        _dates = set()\n",
    "        \n",
    "        for _y in candidates['years']:\n",
    "            \n",
    "            if len(str(_y)) == 2:\n",
    "                _y = int('20' + str(_y))\n",
    "                \n",
    "            for _m in candidates['months']:\n",
    "                for _d in candidates['days']:\n",
    "                    _dates.add(date(year=_y, month=_m, day=_d))\n",
    "        \n",
    "        return _dates   \n",
    "    \n",
    "    def extract_labels(self, st):\n",
    "        \n",
    "        _labs = set()\n",
    "        \n",
    "        for what in self.syns:\n",
    "            for w in st.split():\n",
    "                if w in self.syns[what]:\n",
    "                    _labs.add(what)\n",
    "        \n",
    "        if _labs:\n",
    "            return _labs"
   ]
  },
  {
   "cell_type": "code",
   "execution_count": 734,
   "metadata": {},
   "outputs": [],
   "source": [
    "p = Parser()"
   ]
  },
  {
   "cell_type": "code",
   "execution_count": 743,
   "metadata": {},
   "outputs": [],
   "source": [
    "t1 = Transaction(**d.iloc[randint(0, len(d)-1)])\n",
    "t1.docs['account_category'], t1.labels['account_category']= p.run(t1.account_category)\n",
    "t1.docs['account_name'], t1.labels['account_name']= p.run(t1.account_name)\n",
    "t1.docs['description'], t1.labels['description']= p.run(t1.description)"
   ]
  },
  {
   "cell_type": "code",
   "execution_count": 744,
   "metadata": {},
   "outputs": [
    {
     "name": "stdout",
     "output_type": "stream",
     "text": [
      "acc.cat:  Deferred Revenue - Current\n",
      "acc.name: Deferred Revenue-Maintenance and support (Software)-Billed\n",
      "desc:     ACP 606 Reversals - 12/31/2017\n"
     ]
    }
   ],
   "source": [
    "print(t1)"
   ]
  },
  {
   "cell_type": "code",
   "execution_count": 745,
   "metadata": {},
   "outputs": [
    {
     "data": {
      "text/plain": [
       "defaultdict(None, {})"
      ]
     },
     "execution_count": 745,
     "metadata": {},
     "output_type": "execute_result"
    }
   ],
   "source": [
    "t1.labels['description']"
   ]
  },
  {
   "cell_type": "code",
   "execution_count": 746,
   "metadata": {},
   "outputs": [],
   "source": [
    "t2 = Transaction(**d.iloc[randint(0, len(d)-1)])\n",
    "t2.docs['account_category'], t2.labels['account_category']= p.run(t2.account_category)\n",
    "t2.docs['account_name'], t2.labels['account_name']= p.run(t2.account_name)\n",
    "t2.docs['description'], t2.labels['description']= p.run(t2.description)"
   ]
  },
  {
   "cell_type": "code",
   "execution_count": 747,
   "metadata": {},
   "outputs": [
    {
     "name": "stdout",
     "output_type": "stream",
     "text": [
      "acc.cat:  Revenue - Licenses\n",
      "acc.name: Revenue-Cloud Service Subscription-Billed\n",
      "desc:     ACP ASC 605 Reversals - 03/31/2017\n"
     ]
    }
   ],
   "source": [
    "print(t2)"
   ]
  },
  {
   "cell_type": "code",
   "execution_count": 748,
   "metadata": {},
   "outputs": [
    {
     "name": "stdout",
     "output_type": "stream",
     "text": [
      "similarity: acc.cat: 0.7591 acc.name: 0.8033 description: 0.8501\n"
     ]
    },
    {
     "data": {
      "text/plain": [
       "(0.7591434030560957, 0.8032778786216105, 0.8500671352968832)"
      ]
     },
     "execution_count": 748,
     "metadata": {},
     "output_type": "execute_result"
    }
   ],
   "source": [
    "t1.similarity(t2)"
   ]
  },
  {
   "cell_type": "code",
   "execution_count": 750,
   "metadata": {},
   "outputs": [
    {
     "data": {
      "text/plain": [
       "defaultdict(None,\n",
       "            {'account_category': defaultdict(None, {'types': {'revenue'}}),\n",
       "             'account_name': defaultdict(None, {'types': {'revenue'}}),\n",
       "             'description': defaultdict(None, {})})"
      ]
     },
     "execution_count": 750,
     "metadata": {},
     "output_type": "execute_result"
    }
   ],
   "source": [
    "t1.labels"
   ]
  },
  {
   "cell_type": "code",
   "execution_count": 754,
   "metadata": {},
   "outputs": [
    {
     "data": {
      "text/plain": [
       "['average',\n",
       " 'collection',\n",
       " 'period',\n",
       " 'accounting',\n",
       " 'standards',\n",
       " 'committee',\n",
       " 'reversals']"
      ]
     },
     "execution_count": 754,
     "metadata": {},
     "output_type": "execute_result"
    }
   ],
   "source": [
    "[_.text for _ in t2.docs['description']]"
   ]
  },
  {
   "cell_type": "code",
   "execution_count": null,
   "metadata": {},
   "outputs": [],
   "source": []
  }
 ],
 "metadata": {
  "kernelspec": {
   "display_name": "Python 3",
   "language": "python",
   "name": "python3"
  },
  "language_info": {
   "codemirror_mode": {
    "name": "ipython",
    "version": 3
   },
   "file_extension": ".py",
   "mimetype": "text/x-python",
   "name": "python",
   "nbconvert_exporter": "python",
   "pygments_lexer": "ipython3",
   "version": "3.9.5"
  }
 },
 "nbformat": 4,
 "nbformat_minor": 4
}
