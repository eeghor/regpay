{
 "cells": [
  {
   "cell_type": "code",
   "execution_count": 221,
   "metadata": {},
   "outputs": [],
   "source": [
    "import pandas as pd\n",
    "import re\n",
    "import spacy\n",
    "import json\n",
    "from random import randint\n",
    "from spacy.lang.en.stop_words import STOP_WORDS\n",
    "from typing import Any, Optional, NamedTuple\n",
    "from string import punctuation\n",
    "from datetime import date\n",
    "from itertools import combinations_with_replacement"
   ]
  },
  {
   "cell_type": "code",
   "execution_count": 368,
   "metadata": {},
   "outputs": [],
   "source": [
    "nlp = spacy.load(\"en_core_web_lg\")"
   ]
  },
  {
   "cell_type": "code",
   "execution_count": 369,
   "metadata": {},
   "outputs": [],
   "source": [
    "d = pd.read_csv('data/transaction_texts.csv')"
   ]
  },
  {
   "cell_type": "code",
   "execution_count": 529,
   "metadata": {},
   "outputs": [],
   "source": [
    "class TransactDescr:\n",
    "    \n",
    "    def __init__(self, account_category, account_name, description):\n",
    "        \n",
    "        self.account_category: Optional[str] = account_category\n",
    "        self.account_name: Optional[str] = account_name\n",
    "        self.description: Optional[str] = description\n",
    "    \n",
    "    def __str__(self):\n",
    "        return f'{\"acc.cat:\":<10}{self.account_category}\\n{\"acc.name:\":<10}{self.account_name}\\n{\"desc:\":<10}{self.description}'\n",
    "    \n",
    "    def _normalize(self, st):\n",
    "        \n",
    "        # all to lower case\n",
    "        st = st.lower()\n",
    "        \n",
    "        # replace punctuation with a single white space\n",
    "        st = st.translate(str.maketrans({_: ' ' for _ in punctuation}))\n",
    "        \n",
    "        # replace multiple consecutive white spaces with a single one\n",
    "        st = re.sub(r'\\s+', ' ', st)\n",
    "        \n",
    "        # strip white spaces on ends\n",
    "        st = st.strip()\n",
    "        \n",
    "        # remove numbers\n",
    "        st = self._remove_numbers(st)\n",
    "        \n",
    "        # remove stopwords\n",
    "        st = self._remove_stopwords(st)\n",
    "        \n",
    "        # lemmatize\n",
    "        st = self._lemmatize(st)\n",
    "        \n",
    "        return st\n",
    "    \n",
    "    def _remove_numbers(self, st):\n",
    "        \n",
    "        return ' '.join([w for w in st.split() if w.isalpha()])\n",
    "    \n",
    "    def _remove_stopwords(self, st):\n",
    "        \n",
    "        return ' '.join([w for w in st.split() if w not in STOP_WORDS])\n",
    "    \n",
    "    def _lemmatize(self, st):\n",
    "\n",
    "        return ' '.join([t.lemma_ for t in nlp(st)])\n",
    "    \n",
    "    def normalize(self):\n",
    "        \n",
    "        self.account_category = self._normalize(self.account_category)\n",
    "        self.account_name = self._normalize(self.account_name)\n",
    "        self.description = self._normalize(self.description)\n",
    "        \n",
    "        return self\n",
    "    \n",
    "    def _is_revenue(self, st):\n",
    "        \n",
    "        syns = set('revenue earnings gain income incoming proceeds profit return yield'.split())\n",
    "        \n",
    "        if syns & set(st.split()):\n",
    "            return 1\n",
    "        else:\n",
    "            return 0\n",
    "        \n",
    "    def _is_accrued(self, st):\n",
    "        \n",
    "        syns = set('accrue accumulate amass collect gather aggregate hoard'.split())\n",
    "        \n",
    "        if syns & set(st.split()):\n",
    "            return 1\n",
    "        else:\n",
    "            return 0\n",
    "    \n",
    "    def _is_consolidation(self, st):\n",
    "        \n",
    "        syns = set('consolidation merger strengthening unification amalgamation '.split())\n",
    "        \n",
    "        if syns & set(st.split()):\n",
    "            return 1\n",
    "        else:\n",
    "            return 0\n",
    "    \n",
    "    def _is_month(self, st):\n",
    "        \n",
    "        syns = set('january february march april may june july august september october november december'.split())\n",
    "        syns |= {m[:3] for m in syns}\n",
    "        \n",
    "        if syns & set(st.split()):\n",
    "            return 1\n",
    "        else:\n",
    "            return 0\n",
    "    \n",
    "    def _is_adjustment(self, st):\n",
    "        \n",
    "        syns = set('adjustment adjust adj alteration modification readjustment'.split())\n",
    "        \n",
    "        if syns & set(st.split()):\n",
    "            return 1\n",
    "        else:\n",
    "            return 0\n",
    "    \n",
    "    def _is_payroll(self, st):\n",
    "        \n",
    "        syns = set('payroll salary wages pay remuneration paycheck earning'.split())\n",
    "        \n",
    "        if syns & set(st.split()):\n",
    "            return 1\n",
    "        else:\n",
    "            return 0\n",
    "    \n",
    "    def _is_food(self, st):\n",
    "        \n",
    "        syns = set('food meal dinner lunch restaurant cafe brunch breakfast catering'.split())\n",
    "        \n",
    "        if syns & set(st.split()):\n",
    "            return 1\n",
    "        else:\n",
    "            return 0\n",
    "        \n",
    "    def _is_liability(self, st):\n",
    "        \n",
    "        syns = set('liability debt burden obligation owing uninvoiced'.split())\n",
    "        \n",
    "        if syns & set(st.split()):\n",
    "            return 1\n",
    "        else:\n",
    "            return 0\n",
    "        \n",
    "    def _find_date(self, st):\n",
    "        \n",
    "        try:\n",
    "            _date = re.search(r'(\\b\\d{1,2}\\s{1}\\d{1,2}\\s{1}\\d{2}\\b)|'\n",
    "                              r'(\\b\\d{4}\\s{1}\\d{1,2}\\s{1}\\d{1,2}\\b)|'\n",
    "                              r'(\\b\\d{1,2}\\s{1}\\d{1,2}\\s{1}\\d{4}\\b)', st).group(0)\n",
    "        except:\n",
    "            print('no dates here, move on..')\n",
    "            return None\n",
    "        \n",
    "        plausible = dict(days=set(range(1,32)), \n",
    "                         months=set(range(1,13)), \n",
    "                         years=set(range(19,22)) | set(range(2019, 2022)))\n",
    "        \n",
    "        candidates = dict(days=set(), \n",
    "                          months=set(), \n",
    "                          years=set())\n",
    "        \n",
    "        for p in _date.split():\n",
    "            for _ in 'years months days'.split():\n",
    "                if int(p) in plausible[_]:\n",
    "                    candidates[_].add(int(p))\n",
    "        \n",
    "        if max(candidates['years']) >= 2019:\n",
    "            candidates['years'] = {max(candidates['years'])}\n",
    "        \n",
    "        _dates = set()\n",
    "        \n",
    "        for _y in candidates['years']:\n",
    "            \n",
    "            if len(str(_y)) == 2:\n",
    "                _y = int('20' + str(_y))\n",
    "                \n",
    "            for _m in candidates['months']:\n",
    "                for _d in candidates['days']:\n",
    "                    _dates.add(date(year=_y, month=_m, day=_d))\n",
    "        \n",
    "        return _dates   "
   ]
  },
  {
   "cell_type": "code",
   "execution_count": 530,
   "metadata": {},
   "outputs": [],
   "source": [
    "t = TransactDescr(**d.iloc[12]).normalize()"
   ]
  },
  {
   "cell_type": "code",
   "execution_count": 387,
   "metadata": {},
   "outputs": [],
   "source": [
    "all_abbrs = []\n",
    "\n",
    "for r in d.iterrows():\n",
    "    abbrs = {_ for _ in r[1]['account_name'].lower().split() if len(_) in [2,3]}\n",
    "    all_abbrs += list(abbrs)"
   ]
  },
  {
   "cell_type": "code",
   "execution_count": 390,
   "metadata": {},
   "outputs": [],
   "source": [
    "li = [p.replace(\"/\",'') for p in all_abbrs]"
   ]
  },
  {
   "cell_type": "code",
   "execution_count": 420,
   "metadata": {},
   "outputs": [
    {
     "name": "stdout",
     "output_type": "stream",
     "text": [
      "Investments - Ops Account - BCH - Trade Commissions\n",
      "Unrealized G/(L) - BCH Reserve\n",
      "Investments - Ops Account - BCH FV Adj\n",
      "Unrealized G/(L) - BCH Operating\n",
      "Investments - Ops Account - BCH FV Adj\n"
     ]
    }
   ],
   "source": [
    "i = 0\n",
    "for r in d.iterrows():\n",
    "    if ' bch ' in r[1]['account_name'].lower():\n",
    "        print(r[1]['account_name'])\n",
    "        i += 1\n",
    "        if i == 5:\n",
    "            break"
   ]
  },
  {
   "cell_type": "code",
   "execution_count": 393,
   "metadata": {},
   "outputs": [],
   "source": [
    "from collections import Counter"
   ]
  },
  {
   "cell_type": "code",
   "execution_count": null,
   "metadata": {},
   "outputs": [],
   "source": [
    "Counter([_ for _ in li if _.isalpha() and _ not in STOP_WORDS]).most_common()"
   ]
  },
  {
   "cell_type": "code",
   "execution_count": 378,
   "metadata": {},
   "outputs": [
    {
     "name": "stdout",
     "output_type": "stream",
     "text": [
      "acc.cat:  deferred revenue current\n",
      "acc.name: deferred revenue maintenance support software unbilled\n",
      "desc:     acp reversal\n"
     ]
    }
   ],
   "source": [
    "print(t)"
   ]
  },
  {
   "cell_type": "code",
   "execution_count": 385,
   "metadata": {},
   "outputs": [
    {
     "data": {
      "text/plain": [
       "'rabbit love carrot refer defer high'"
      ]
     },
     "execution_count": 385,
     "metadata": {},
     "output_type": "execute_result"
    }
   ],
   "source": [
    "t._lemmatize('rabbits love carrots referred deferred higher')"
   ]
  },
  {
   "cell_type": "code",
   "execution_count": 68,
   "metadata": {},
   "outputs": [],
   "source": [
    "ac = json.load(open('data/acdic.json'))"
   ]
  },
  {
   "cell_type": "code",
   "execution_count": 5,
   "metadata": {},
   "outputs": [],
   "source": [
    "nlp = spacy.load(\"en_core_web_lg\")"
   ]
  },
  {
   "cell_type": "code",
   "execution_count": 521,
   "metadata": {},
   "outputs": [],
   "source": [
    "def get_text():\n",
    "    \n",
    "#     row = d.iloc[randint(0, len(d)-1)]\n",
    "    row = TransactDescr(**d.iloc[randint(0, len(d)-1)]).normalize()\n",
    "\n",
    "    doc = nlp(row.description)\n",
    "    \n",
    "    doc_norm = [(token.text, token.lemma_, token.pos_, token.has_vector) \n",
    "                     for token in doc if token.pos_ in ['NOUN', 'VERB', 'ADJ', 'ADV', 'PRON'] and \n",
    "                                 len(token.lemma_)>1 and \n",
    "                                 token.text.isalpha()]\n",
    "    return ' '.join([_[0] for _ in doc_norm])"
   ]
  },
  {
   "cell_type": "code",
   "execution_count": 533,
   "metadata": {},
   "outputs": [
    {
     "name": "stdout",
     "output_type": "stream",
     "text": [
      "1: lyft charge phil bar fnd consulting\n",
      "2: journal entry futa tax\n",
      "similarity: 0.3976405099269043\n",
      "1: llc\n",
      "2: acp reversal\n",
      "similarity: 0.21054081286453544\n",
      "1: period daily sale\n",
      "2: depreciation asset computer chromebook projector pay app serial number\n",
      "similarity: 0.45400513977711354\n",
      "1: vacation accrual\n",
      "2: \n",
      "similarity: 0.0\n",
      "1: acp reversal\n",
      "2: consolidation\n",
      "similarity: 0.2224955151386263\n",
      "1: ledger entry\n",
      "2: reverse rpc online giving cfw\n",
      "similarity: 0.24317013205124913\n",
      "1: paddywack dog supply\n",
      "2: tel data exp kamlesh tiwari\n",
      "similarity: 0.09723609420292094\n"
     ]
    },
    {
     "name": "stderr",
     "output_type": "stream",
     "text": [
      "<ipython-input-533-2e499eb71ec9>:6: UserWarning: [W008] Evaluating Doc.similarity based on empty vectors.\n",
      "  print(f'1: {l1}\\n2: {l2}\\nsimilarity: {doc1.similarity(doc2)}')\n"
     ]
    },
    {
     "name": "stdout",
     "output_type": "stream",
     "text": [
      "1: pos jan\n",
      "2: cash\n",
      "similarity: 0.1892912541509257\n",
      "1: dental\n",
      "2: vacation accrual\n",
      "similarity: 0.2656496886205442\n",
      "1: \n",
      "2: expense allocation vco\n",
      "similarity: 0.0\n",
      "1: \n",
      "2: consolidation\n",
      "similarity: 0.0\n",
      "1: acp reversal\n",
      "2: consolidation\n",
      "similarity: 0.2224955151386263\n",
      "1: table game find money\n",
      "2: acp reversal\n",
      "similarity: 0.06188248479072436\n",
      "1: cash\n",
      "2: consolidation\n",
      "similarity: 0.4657770986771067\n",
      "1: consolidation\n",
      "2: deduction hso\n",
      "similarity: 0.16151838300021323\n",
      "1: consolidation\n",
      "2: account payable\n",
      "similarity: 0.3603264977976946\n",
      "1: purchase\n",
      "2: \n",
      "similarity: 0.0\n",
      "1: inter entity\n",
      "2: acp reversal\n",
      "similarity: 0.12222155909953979\n",
      "1: report write\n",
      "2: adj\n",
      "similarity: -0.047283218275892484\n",
      "1: reclassify people expense project gate foundation grant expense\n",
      "2: period daily sale\n",
      "similarity: 0.4844234555663616\n",
      "1: adj\n",
      "2: consolidation\n",
      "similarity: 0.1341898331172192\n",
      "1: journal entry allocate ppd work comp\n",
      "2: reverse defer reclass\n",
      "similarity: 0.3585636009202673\n",
      "1: melinda\n",
      "2: charge mar\n",
      "similarity: 0.0056026069141078255\n",
      "1: depreciation asset pr serial number\n",
      "2: salary\n",
      "similarity: 0.44200719500488245\n",
      "1: acp reversal\n",
      "2: reallocate department people cost\n",
      "similarity: 0.14409703706337157\n",
      "1: acp reversal\n",
      "2: bill batch summary entry\n",
      "similarity: 0.20460655871114392\n",
      "1: inter entity tacoma housing authority line\n",
      "2: file management\n",
      "similarity: 0.49323675274944606\n",
      "1: acp reversal\n",
      "2: depreciation asset eqpt serial number\n",
      "similarity: 0.18775513405342723\n",
      "1: consolidation\n",
      "2: consolidation\n",
      "similarity: 1.0\n",
      "1: consolidation\n",
      "2: consolidation\n",
      "similarity: 1.0\n",
      "1: consolidation\n",
      "2: consolidation\n",
      "similarity: 1.0\n",
      "1: payroll taxis ppe paydate\n",
      "2: consolidation\n",
      "similarity: 0.1885243035950499\n",
      "1: reverse accrue supply chain expense\n",
      "2: period daily sale\n",
      "similarity: 0.48386817221133566\n",
      "1: cash\n",
      "2: consolidation\n",
      "similarity: 0.4657770986771067\n",
      "1: depreciation asset co serial number\n",
      "2: consolidation\n",
      "similarity: 0.43216430252592875\n",
      "1: consolidation\n",
      "2: \n",
      "similarity: 0.0\n",
      "1: consolidation\n",
      "2: period daily sale\n",
      "similarity: 0.2973169118507001\n",
      "1: consolidation\n",
      "2: consolidation\n",
      "similarity: 1.0\n",
      "1: period daily sale\n",
      "2: mpx portal credit card visa\n",
      "similarity: 0.32224109727229344\n",
      "1: acp reversal\n",
      "2: consolidation\n",
      "similarity: 0.2224955151386263\n",
      "1: \n",
      "2: consolidation\n",
      "similarity: 0.0\n",
      "1: acp reversal\n",
      "2: ach debit cur trsf bank america discount indn tender green mis vy co ccd\n",
      "similarity: 0.2704938422202656\n",
      "1: apac talent summit acquisition allocation vcg billable\n",
      "2: reverse general accrual invc\n",
      "similarity: 0.3625727235903704\n",
      "1: consolidation\n",
      "2: consolidation\n",
      "similarity: 1.0\n",
      "1: account payable\n",
      "2: cash\n",
      "similarity: 0.6116782317496743\n",
      "1: purchase\n",
      "2: balance sheet adj\n",
      "similarity: 0.29436810756686677\n",
      "1: consolidation\n",
      "2: ultipro payroll\n",
      "similarity: 0.36014064468611784\n",
      "1: garlic rope\n",
      "2: consolidation\n",
      "similarity: 0.01493699618571199\n",
      "1: period daily sale\n",
      "2: ultipro payroll\n",
      "similarity: 0.30765244180569123\n",
      "1: acp reversal\n",
      "2: consolidation\n",
      "similarity: 0.2224955151386263\n"
     ]
    }
   ],
   "source": [
    "for _ in range(50):\n",
    "    l1 = get_text()\n",
    "    doc1 = nlp(l1)\n",
    "    l2 = get_text()\n",
    "    doc2 = nlp(l2)\n",
    "    print(f'1: {l1}\\n2: {l2}\\nsimilarity: {doc1.similarity(doc2)}')"
   ]
  },
  {
   "cell_type": "code",
   "execution_count": 525,
   "metadata": {},
   "outputs": [
    {
     "name": "stdout",
     "output_type": "stream",
     "text": [
      "1: period daily sale amex\n",
      "2: dialpad monthly cell phone bill\n",
      "similarity: 0.37131790764316164\n"
     ]
    }
   ],
   "source": []
  },
  {
   "cell_type": "code",
   "execution_count": null,
   "metadata": {},
   "outputs": [],
   "source": []
  }
 ],
 "metadata": {
  "kernelspec": {
   "display_name": "Python 3",
   "language": "python",
   "name": "python3"
  },
  "language_info": {
   "codemirror_mode": {
    "name": "ipython",
    "version": 3
   },
   "file_extension": ".py",
   "mimetype": "text/x-python",
   "name": "python",
   "nbconvert_exporter": "python",
   "pygments_lexer": "ipython3",
   "version": "3.9.5"
  }
 },
 "nbformat": 4,
 "nbformat_minor": 4
}
