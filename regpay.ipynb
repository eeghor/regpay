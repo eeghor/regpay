{
 "cells": [
  {
   "cell_type": "code",
   "execution_count": 4,
   "metadata": {},
   "outputs": [],
   "source": [
    "import pandas as pd\n",
    "import re\n",
    "import spacy\n",
    "import json\n",
    "from random import randint\n",
    "from spacy.lang.en.stop_words import STOP_WORDS\n",
    "from typing import Any, Optional, NamedTuple\n",
    "from string import punctuation\n",
    "from datetime import date\n",
    "from itertools import combinations_with_replacement\n",
    "from collections import Counter, defaultdict"
   ]
  },
  {
   "cell_type": "code",
   "execution_count": 5,
   "metadata": {},
   "outputs": [],
   "source": [
    "nlp = spacy.load(\"en_core_web_lg\")"
   ]
  },
  {
   "cell_type": "code",
   "execution_count": 18,
   "metadata": {},
   "outputs": [],
   "source": [
    "d = pd.read_csv('data/transaction_texts.csv')"
   ]
  },
  {
   "cell_type": "code",
   "execution_count": 6,
   "metadata": {},
   "outputs": [],
   "source": [
    "class Transaction:\n",
    "    \n",
    "    def __init__(self, account_category, account_name, description):\n",
    "        \n",
    "        self.account_category: Optional[str] = account_category\n",
    "        self.account_name: Optional[str] = account_name\n",
    "        self.description: Optional[str] = description\n",
    "            \n",
    "        self.docs = defaultdict()\n",
    "        self.labels = defaultdict()\n",
    "    \n",
    "    def __str__(self):\n",
    "        return f'{\"acc.cat:\":<10}{self.account_category}\\n{\"acc.name:\":<10}{self.account_name}\\n{\"desc:\":<10}{self.description}'\n",
    "    \n",
    "    def similarity(self, another_transaction):\n",
    "        \n",
    "        sim_acc_cat = self.docs['account_category'].similarity(another_transaction.docs['account_category'])\n",
    "        sim_acc_name = self.docs['account_name'].similarity(another_transaction.docs['account_name'])\n",
    "        sim_desc = self.docs['description'].similarity(another_transaction.docs['description'])\n",
    "        \n",
    "        print(f'similarity: acc.cat: {sim_acc_cat:.4f} acc.name: {sim_acc_name:.4f} description: {sim_desc:.4f}')\n",
    "        \n",
    "        return (sim_acc_cat, sim_acc_name, sim_desc)"
   ]
  },
  {
   "cell_type": "code",
   "execution_count": 63,
   "metadata": {},
   "outputs": [],
   "source": [
    "class Parser:\n",
    "    \n",
    "    def __init__(self):\n",
    "        \n",
    "        self.abbrs = json.load(open('data/acdic.json'))\n",
    "        self.syns = {'revenue': set('revenue earnings gain income incoming proceeds profit return yield'.split()),\n",
    "                     'expense': set('expense charge expenditure obligation spending spend overhead surcharge'.split()),\n",
    "                     'accrue': set('accrue accumulate amass collect gather aggregate hoard'.split()),\n",
    "                     'consolidation': set('consolidation merger strengthening unification amalgamation'.split()),\n",
    "                     'adjustment': set('adjustment adjust adj alteration modification readjustment'.split()),\n",
    "                     'recurring': set('regular daily monthly weekly fortnightly yearly repeat routine recurring'.split()),\n",
    "                     'defer': set('adjourn delay postpone suspend'.split()),\n",
    "                     'payroll': set('payroll salary wages pay remuneration paycheck earning'.split()),\n",
    "                     'liability': set('liability debt burden obligation owing uninvoiced'.split()),\n",
    "                     'rent': set('rent lease rental'.split()),\n",
    "                     'maintenance': set('maintenance repair'.split()),\n",
    "                     'month': set('apr april aug august dec december feb february jan january jul july jun june mar march may nov november oct october sep september'.split()),\n",
    "                     'food': set('food meal dinner lunch restaurant cafe brunch breakfast catering'.split()),\n",
    "                     'reverse': set('reverse back return inverse converse'.split())}\n",
    "        \n",
    "        for k in self.syns:\n",
    "            syns_upd = set()\n",
    "            for w in nlp(' '.join(self.syns[k])):\n",
    "                syns_upd.add(w.lemma_.lower())\n",
    "            self.syns[k] = syns_upd\n",
    "    \n",
    "    def run(self, st):\n",
    "        \n",
    "        _labs = defaultdict(set) \n",
    "        _doc = None\n",
    "        \n",
    "        if (not isinstance(st, str)) or (not st.strip()):\n",
    "            return (_docs, _labs)\n",
    "        \n",
    "        _labs['dates'] = self.find_dates(st)\n",
    "        \n",
    "        st = st.lower().translate({ord(sep): '' for sep in './'})\n",
    "        \n",
    "        st = st.translate(str.maketrans({_: ' ' for _ in punctuation}))\n",
    "        \n",
    "        # unfold abbreviations\n",
    "        st = ' '.join([self.abbrs.get(w, w).lower().replace(',','') for w in st.split()])\n",
    "        \n",
    "        # remove numbers\n",
    "        st = ' '.join([w for w in st.split() if w.isalpha()])\n",
    "        \n",
    "        # remove stopwords\n",
    "        st = ' '.join([w for w in st.split() if w not in STOP_WORDS])\n",
    "        \n",
    "        # replace multiple consecutive white spaces with a single one\n",
    "        st = re.sub(r'\\s+', ' ', st).strip()\n",
    "        \n",
    "        if st:\n",
    "            _doc = nlp(st)\n",
    "        \n",
    "            for what in self.syns:\n",
    "                for w in _doc:\n",
    "                    if w.lemma_ in self.syns[what]:\n",
    "                        _labs['labels'].add(what)\n",
    "            \n",
    "        return (_doc, _labs)\n",
    "    \n",
    "    def find_dates(self, st):\n",
    "        \n",
    "        plausible = dict(day=set(range(1,32)), \n",
    "                         month=set(range(1,13)), \n",
    "                         year=set(range(19,23)) | set(range(2019, 2023)))\n",
    "        \n",
    "        # try to create a set of found dates using a single - as separator \n",
    "        try:\n",
    "            _dates = {re.sub(r'[-\\/.]+','-', d) for d in re.findall(r'\\b\\d{1,2}[-\\/.]+\\d{1,2}[-\\/.]+\\d{4}\\b|'\n",
    "                                                                           r'\\b\\d{4}[-\\/.]+\\d{1,2}[-\\/.]+\\d{1,2}\\b|'\n",
    "                                                                           r'\\b\\d{1,2}[-\\/.]+\\d{1,2}[-\\/.]+\\d{1,2}\\b', st)}     \n",
    "        except:\n",
    "            return None\n",
    "        \n",
    "        # dates will be gathered in this set if they are valid\n",
    "        dates = []\n",
    "        \n",
    "        for _date in _dates:\n",
    "            \n",
    "            _date_parts = _date.split('-')\n",
    "            \n",
    "            position_cands = defaultdict(set)\n",
    "            \n",
    "            for i, p in enumerate(_date_parts):\n",
    "                for q in 'year month day'.split():\n",
    "                    if int(p) in plausible[q]:\n",
    "                        position_cands[i].add(q)\n",
    "            \n",
    "            if set(position_cands) != set(range(len(_date_parts))):\n",
    "                continue\n",
    "            \n",
    "            for p0 in position_cands[0]:\n",
    "                for p1 in position_cands[1] - {p0}:\n",
    "                    for p2 in position_cands[2] - {p0} - {p1}:\n",
    "                        \n",
    "                        date_as_dict = {p0: int(_date_parts[0]), p1: int(_date_parts[1]), p2: int(_date_parts[2])}\n",
    "                        \n",
    "                        # make sure year is presented as 20YY\n",
    "                        for _ in date_as_dict:\n",
    "                            if (_ == 'year') and (len(str(date_as_dict[_])) == 2):\n",
    "                                date_as_dict.update({_: int('20'+str(date_as_dict[_]))})\n",
    "                                \n",
    "                        dates.append(date(**date_as_dict))\n",
    "\n",
    "        return dates   "
   ]
  },
  {
   "cell_type": "code",
   "execution_count": 64,
   "metadata": {},
   "outputs": [],
   "source": [
    "p = Parser()"
   ]
  },
  {
   "cell_type": "code",
   "execution_count": 65,
   "metadata": {},
   "outputs": [
    {
     "data": {
      "text/plain": [
       "(ewfefe ab revenue accrued maintenance repairs reversed,\n",
       " defaultdict(set,\n",
       "             {'dates': [datetime.date(2022, 1, 1),\n",
       "               datetime.date(2022, 1, 1),\n",
       "               datetime.date(2021, 4, 12),\n",
       "               datetime.date(2021, 12, 4)],\n",
       "              'labels': {'accrue', 'maintenance', 'revenue', 'reverse'}}))"
      ]
     },
     "execution_count": 65,
     "metadata": {},
     "output_type": "execute_result"
    }
   ],
   "source": [
    "p.run(' ewfefe 2141x !@@@!2 2021--12-4 a.B 3/1452-1-23m  1.1.22 rev accrued maintenance&repairs -- reversed')"
   ]
  },
  {
   "cell_type": "code",
   "execution_count": 66,
   "metadata": {},
   "outputs": [
    {
     "name": "stdout",
     "output_type": "stream",
     "text": [
      "acc.cat:  Revenue - Services\n",
      "acc.name: Wine & Beer - Lunch\n",
      "desc:     Period 9 daily sales\n"
     ]
    }
   ],
   "source": [
    "t1 = Transaction(**d.iloc[randint(0, len(d)-1)])\n",
    "print(t1)\n",
    "t1.docs['account_category'], t1.labels['account_category']= p.run(t1.account_category)\n",
    "t1.docs['account_name'], t1.labels['account_name']= p.run(t1.account_name)\n",
    "t1.docs['description'], t1.labels['description']= p.run(t1.description)"
   ]
  },
  {
   "cell_type": "code",
   "execution_count": 68,
   "metadata": {},
   "outputs": [
    {
     "data": {
      "text/plain": [
       "defaultdict(None,\n",
       "            {'account_category': defaultdict(set,\n",
       "                         {'dates': [], 'labels': {'revenue'}}),\n",
       "             'account_name': defaultdict(set,\n",
       "                         {'dates': [], 'labels': {'food'}}),\n",
       "             'description': defaultdict(set,\n",
       "                         {'dates': [], 'labels': {'recurring'}})})"
      ]
     },
     "execution_count": 68,
     "metadata": {},
     "output_type": "execute_result"
    }
   ],
   "source": [
    "t1.labels"
   ]
  },
  {
   "cell_type": "code",
   "execution_count": 69,
   "metadata": {},
   "outputs": [],
   "source": [
    "t2 = Transaction(**d.iloc[randint(0, len(d)-1)])\n",
    "t2.docs['account_category'], t2.labels['account_category']= p.run(t2.account_category)\n",
    "t2.docs['account_name'], t2.labels['account_name']= p.run(t2.account_name)\n",
    "t2.docs['description'], t2.labels['description']= p.run(t2.description)"
   ]
  },
  {
   "cell_type": "code",
   "execution_count": 70,
   "metadata": {},
   "outputs": [
    {
     "name": "stdout",
     "output_type": "stream",
     "text": [
      "acc.cat:  Benefit Expense\n",
      "acc.name: FICA\n",
      "desc:     UltiPro Payroll 09.13.2019\n"
     ]
    }
   ],
   "source": [
    "print(t2)"
   ]
  },
  {
   "cell_type": "code",
   "execution_count": 71,
   "metadata": {},
   "outputs": [
    {
     "name": "stdout",
     "output_type": "stream",
     "text": [
      "similarity: acc.cat: 0.6901 acc.name: -0.1082 description: 0.4283\n"
     ]
    },
    {
     "data": {
      "text/plain": [
       "(0.6900576326013322, -0.10820845111193943, 0.4282828817361174)"
      ]
     },
     "execution_count": 71,
     "metadata": {},
     "output_type": "execute_result"
    }
   ],
   "source": [
    "t1.similarity(t2)"
   ]
  },
  {
   "cell_type": "code",
   "execution_count": 72,
   "metadata": {},
   "outputs": [
    {
     "data": {
      "text/plain": [
       "defaultdict(None,\n",
       "            {'account_category': defaultdict(set,\n",
       "                         {'dates': [], 'labels': {'expense'}}),\n",
       "             'account_name': defaultdict(set, {'dates': []}),\n",
       "             'description': defaultdict(set,\n",
       "                         {'dates': [datetime.date(2019, 9, 13)],\n",
       "                          'labels': {'payroll'}})})"
      ]
     },
     "execution_count": 72,
     "metadata": {},
     "output_type": "execute_result"
    }
   ],
   "source": [
    "t2.labels"
   ]
  }
 ],
 "metadata": {
  "kernelspec": {
   "display_name": "Python 3",
   "language": "python",
   "name": "python3"
  },
  "language_info": {
   "codemirror_mode": {
    "name": "ipython",
    "version": 3
   },
   "file_extension": ".py",
   "mimetype": "text/x-python",
   "name": "python",
   "nbconvert_exporter": "python",
   "pygments_lexer": "ipython3",
   "version": "3.9.5"
  }
 },
 "nbformat": 4,
 "nbformat_minor": 4
}
